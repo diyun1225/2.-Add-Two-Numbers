{
  "nbformat": 4,
  "nbformat_minor": 0,
  "metadata": {
    "colab": {
      "provenance": [],
      "authorship_tag": "ABX9TyP9BzxZzyY2KPF5OAIGtJm+",
      "include_colab_link": true
    },
    "kernelspec": {
      "name": "python3",
      "display_name": "Python 3"
    },
    "language_info": {
      "name": "python"
    }
  },
  "cells": [
    {
      "cell_type": "markdown",
      "metadata": {
        "id": "view-in-github",
        "colab_type": "text"
      },
      "source": [
        "<a href=\"https://colab.research.google.com/github/diyun1225/2.-Add-Two-Numbers/blob/main/1005.ipynb\" target=\"_parent\"><img src=\"https://colab.research.google.com/assets/colab-badge.svg\" alt=\"Open In Colab\"/></a>"
      ]
    },
    {
      "cell_type": "code",
      "source": [
        "pip install paho-mqtt"
      ],
      "metadata": {
        "colab": {
          "base_uri": "https://localhost:8080/"
        },
        "id": "pAs5yivGgd2w",
        "outputId": "01c0a669-ef22-4182-c6e7-9b90bdcd200a"
      },
      "execution_count": null,
      "outputs": [
        {
          "output_type": "stream",
          "name": "stdout",
          "text": [
            "Collecting paho-mqtt\n",
            "  Downloading paho_mqtt-2.1.0-py3-none-any.whl.metadata (23 kB)\n",
            "Downloading paho_mqtt-2.1.0-py3-none-any.whl (67 kB)\n",
            "\u001b[?25l   \u001b[90m━━━━━━━━━━━━━━━━━━━━━━━━━━━━━━━━━━━━━━━━\u001b[0m \u001b[32m0.0/67.2 kB\u001b[0m \u001b[31m?\u001b[0m eta \u001b[36m-:--:--\u001b[0m\r\u001b[2K   \u001b[90m━━━━━━━━━━━━━━━━━━━━━━━━━━━━━━━━━━━━━━━━\u001b[0m \u001b[32m67.2/67.2 kB\u001b[0m \u001b[31m2.2 MB/s\u001b[0m eta \u001b[36m0:00:00\u001b[0m\n",
            "\u001b[?25hInstalling collected packages: paho-mqtt\n",
            "Successfully installed paho-mqtt-2.1.0\n"
          ]
        }
      ]
    },
    {
      "cell_type": "code",
      "execution_count": null,
      "metadata": {
        "colab": {
          "base_uri": "https://localhost:8080/",
          "height": 199
        },
        "id": "2uB_dssWgV9C",
        "outputId": "ac0014f2-f3ee-41d5-af3c-564dd46982cb"
      },
      "outputs": [
        {
          "output_type": "error",
          "ename": "SyntaxError",
          "evalue": "invalid syntax (<ipython-input-7-bf9ab9737adb>, line 14)",
          "traceback": [
            "\u001b[0;36m  File \u001b[0;32m\"<ipython-input-7-bf9ab9737adb>\"\u001b[0;36m, line \u001b[0;32m14\u001b[0m\n\u001b[0;31m    writer.writerow([msg.topic, msg.payload.decode('utf-8')])  print(f\"Topic: {msg.topic}, Message: {msg.payload.decode('utf-8')}\")\u001b[0m\n\u001b[0m                                                               ^\u001b[0m\n\u001b[0;31mSyntaxError\u001b[0m\u001b[0;31m:\u001b[0m invalid syntax\n"
          ]
        }
      ],
      "source": [
        "import paho.mqtt.client as mqtt\n",
        "import csv\n",
        "# 當成功連接到 MQTT 伺服器時觸發\n",
        "def on_connect(client, userdata, flags, rc):\n",
        "    print(f\"Connected with result code {rc}\")\n",
        "    # 訂閱主題，接收來自該主題的訊息\n",
        "    client.subscribe(\"mongoDB/sensors\")\n",
        "\n",
        "# 當接收到訊息時觸發\n",
        "def on_message(client, userdata, msg):\n",
        "      # 將訊息寫入 CSV 文件\n",
        "    with open('mqtt_data.csv', mode='a', newline='') as file:\n",
        "        writer = csv.writer(file)\n",
        "        writer.writerow([msg.topic, msg.payload.decode('utf-8')])  print(f\"Topic: {msg.topic}, Message: {msg.payload.decode('utf-8')}\")\n",
        "\n",
        "# 建立 MQTT 客戶端\n",
        "client = mqtt.Client()\n",
        "\n",
        "# 設定連接與接收訊息的回呼函數\n",
        "client.on_connect = on_connect\n",
        "client.on_message = on_message\n",
        "\n",
        "# 連接到 MQTT 伺服器\n",
        "client.connect(\"broker.emqx.io\", 1883, 60)  # 將 MQTT_SERVER_IP 替換為您的 MQTT 伺服器 IP\n",
        "\n",
        "# 開始連接並等待接收訊息\n",
        "client.loop_forever()"
      ]
    },
    {
      "cell_type": "code",
      "source": [
        "import paho.mqtt.client as mqtt\n",
        "import csv\n",
        "\n",
        "# 當成功連接到 MQTT 伺服器時觸發\n",
        "def on_connect(client, userdata, flags, rc):\n",
        "    print(f\"Connected with result code {rc}\")\n",
        "    client.subscribe(\"mongoDB/sensors\")\n",
        "\n",
        "# 當接收到訊息時觸發\n",
        "def on_message(client, userdata, msg):\n",
        "    print(f\"Topic: {msg.topic}, Message: {msg.payload.decode('utf-8')}\")\n",
        "\n",
        "    # 將訊息寫入 CSV 文件\n",
        "    with open('mqtt_data.csv', mode='a', newline='') as file:\n",
        "        writer = csv.writer(file)\n",
        "        writer.writerow([msg.topic, msg.payload.decode('utf-8')])\n",
        "\n",
        "# 建立 MQTT 客戶端\n",
        "client = mqtt.Client()\n",
        "\n",
        "# 設定連接與接收訊息的回呼函數\n",
        "client.on_connect = on_connect\n",
        "client.on_message = on_message\n",
        "\n",
        "# 連接到 MQTT 伺服器\n",
        "client.connect(\"broker.emqx.io\", 1883, 60)\n",
        "\n",
        "# 開始連接並等待接收訊息\n",
        "client.loop_forever()"
      ],
      "metadata": {
        "colab": {
          "base_uri": "https://localhost:8080/"
        },
        "id": "MgGXtTeYiViU",
        "outputId": "0bd5338c-79ba-46a2-b313-d0547c95c9f6"
      },
      "execution_count": null,
      "outputs": [
        {
          "metadata": {
            "tags": null
          },
          "name": "stderr",
          "output_type": "stream",
          "text": [
            "<ipython-input-8-03ff807c5160>:19: DeprecationWarning: Callback API version 1 is deprecated, update to latest version\n",
            "  client = mqtt.Client()\n"
          ]
        },
        {
          "metadata": {
            "tags": null
          },
          "name": "stdout",
          "output_type": "stream",
          "text": [
            "Connected with result code 0\n",
            "Topic: mongoDB/sensors, Message: {\"environment_temperature\":33.1773758,\"environment_humidity\":66.46185304,\"wind_speed\":2.001758168,\"wind_direction_angle\":134.199997,\"wind_direction_w\":\"Southeast\",\"Ktemperature\":1e-8}\n",
            "Topic: mongoDB/sensors, Message: {\"environment_temperature\":33.18691255,\"environment_humidity\":65.49063111,\"wind_speed\":1.764835248,\"wind_direction_angle\":47.79999925,\"wind_direction_w\":\"Northeast\",\"Ktemperature\":1e-8}\n",
            "Topic: mongoDB/sensors, Message: {\"environment_temperature\":33.21743012,\"environment_humidity\":65.50550843,\"wind_speed\":1.590769182,\"wind_direction_angle\":158.8999939,\"wind_direction_w\":\"Southeast by south\",\"Ktemperature\":1e-8}\n",
            "Topic: mongoDB/sensors, Message: {\"environment_temperature\":33.35628511,\"environment_humidity\":65.46621705,\"wind_speed\":2.030769299,\"wind_direction_angle\":143.3999939,\"wind_direction_w\":\"Southeast\",\"Ktemperature\":1e-8}\n",
            "Topic: mongoDB/sensors, Message: {\"environment_temperature\":33.45413209,\"environment_humidity\":64.93196107,\"wind_speed\":0.217582437,\"wind_direction_angle\":191.8000031,\"wind_direction_w\":\"Southwest by south\",\"Ktemperature\":1e-8}\n",
            "Topic: mongoDB/sensors, Message: {\"environment_temperature\":33.63494874,\"environment_humidity\":65.25010682,\"wind_speed\":0.928351621,\"wind_direction_angle\":23.60000039,\"wind_direction_w\":\"Northeast by north\",\"Ktemperature\":1e-8}\n"
          ]
        }
      ]
    },
    {
      "cell_type": "markdown",
      "source": [],
      "metadata": {
        "id": "CeNnWS6UgcUg"
      }
    }
  ]
}